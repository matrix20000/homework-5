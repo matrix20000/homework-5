{
 "cells": [
  {
   "cell_type": "markdown",
   "metadata": {},
   "source": [
    "Вы работаете секретарем и вам постоянно приходят различные документы. Вы должны быть очень внимательны, чтобы не потерять ни один документ. Каталог документов хранится в следующем виде:"
   ]
  },
  {
   "cell_type": "code",
   "execution_count": 515,
   "metadata": {},
   "outputs": [],
   "source": [
    "documents = [\n",
    "    {'type': 'passport', 'number': '2207 876234', 'name': 'Василий Гупкин'},\n",
    "    {'type': 'invoice', 'number': '11-2', 'name': 'Геннадий Покемонов'},\n",
    "    {'type': 'insurance', 'number': '10006', 'name': 'Аристарх Павлов'}\n",
    "]"
   ]
  },
  {
   "cell_type": "markdown",
   "metadata": {},
   "source": [
    "Перечень полок, на которых находятся документы хранится в следующем виде:"
   ]
  },
  {
   "cell_type": "code",
   "execution_count": 516,
   "metadata": {},
   "outputs": [],
   "source": [
    "directories = {\n",
    "    '1': ['2207 876234', '11-2', '5455 028765'],\n",
    "    '2': ['10006', '5400 028765', '5455 002299'],\n",
    "    '3': []\n",
    "}"
   ]
  },
  {
   "cell_type": "markdown",
   "metadata": {},
   "source": [
    "**Предполагается, что документы и полки могут иметь в номерах буквы и цифры**"
   ]
  },
  {
   "cell_type": "code",
   "execution_count": 517,
   "metadata": {},
   "outputs": [],
   "source": [
    "def people():\n",
    "    user_value = input('Ведите номер документа по которому ищем человека: ')\n",
    "    for doc in documents:\n",
    "        if user_value == '':\n",
    "            return print('Поле не может быть пустым') \n",
    "        elif user_value == doc['number']:\n",
    "            return doc['name']\n",
    "        \n",
    "    return 'Документа не существует, проверьте номер или воспользуйтесь параметром \"a\"'\n",
    "# people()"
   ]
  },
  {
   "cell_type": "code",
   "execution_count": 518,
   "metadata": {},
   "outputs": [],
   "source": [
    "def shelf():\n",
    "    user_value = input('Введите номер документа чтобы узнать номер полки: ')\n",
    "    for shelf, doc in directories.items():\n",
    "        if user_value == '':\n",
    "            return print('Поле не может быть пустым') \n",
    "        elif user_value in doc:\n",
    "            return shelf\n",
    "    return print('Документа не существует,проверьте номер или воспользуйтесь параметром \"a\"') \n",
    "# shelf()"
   ]
  },
  {
   "cell_type": "code",
   "execution_count": 519,
   "metadata": {},
   "outputs": [],
   "source": [
    "def list_():\n",
    "    print('Вывожу список всех документов: \\n')\n",
    "    for doc in documents:\n",
    "        print(f'{doc[\"type\"]} \"{doc[\"number\"]}\" \"{doc[\"name\"]}\"')\n",
    "    \n",
    "# list_()"
   ]
  },
  {
   "cell_type": "code",
   "execution_count": 520,
   "metadata": {},
   "outputs": [],
   "source": [
    "def add_shelf():\n",
    "    user_shelf = input('Ведите номер новой полки, которую необходимо добавить в перечень: ')\n",
    "    if user_shelf not in directories.keys():\n",
    "        directories[user_shelf] =[]\n",
    "        print(f'Новая полка №{user_shelf} добавлена')\n",
    "    else:\n",
    "        print('Данная полка уже существует')"
   ]
  },
  {
   "cell_type": "code",
   "execution_count": 521,
   "metadata": {},
   "outputs": [],
   "source": [
    "def delete():\n",
    "    user_value = input('Ведите номер документа для удаления его из каталога и из перечня полок: ')\n",
    "    for doc in documents:\n",
    "        if user_value == '':\n",
    "            return print('Поле не может быть пустым') \n",
    "        elif user_value == doc['number']:\n",
    "            del(documents[documents.index(doc)])     \n",
    "    for doc_shelf, doc_dir in directories.items():\n",
    "        if user_value in doc_dir:\n",
    "            del(doc_dir[doc_dir.index(user_value)]) \n",
    "            return print(f'Документ:\\n {doc} \\nудален из каталога и из полки №{doc_shelf}!') \n",
    "    \n",
    "    return('Неверно указан номер')"
   ]
  },
  {
   "cell_type": "code",
   "execution_count": 522,
   "metadata": {},
   "outputs": [],
   "source": [
    "def move():\n",
    "    user_value = input('Введите номер документа для перемещения на новую полку: ')\n",
    "    user_shelf = input('Введите номер полки: ')\n",
    "    for doc in documents:\n",
    "        if user_value == '' or user_shelf == '':\n",
    "            return print('Поля не могут быть пустыми') \n",
    "        elif user_value == doc['number']:\n",
    "            for shelf, doc in directories.items():            \n",
    "                if user_shelf in shelf:\n",
    "                    for shelf, doc in directories.items():\n",
    "                        if user_value in doc:\n",
    "                            doc.remove(user_value)\n",
    "                        if user_shelf in shelf:\n",
    "                            doc.append(user_value)\n",
    "                    return print(f'Документ {user_value} успешно перенесен на полку № {user_shelf}')\n",
    "            return print('Полки не существует')\n",
    "    return print('Документа не существует')\n",
    "# move()"
   ]
  },
  {
   "cell_type": "code",
   "execution_count": 523,
   "metadata": {},
   "outputs": [],
   "source": [
    "def add():\n",
    "    user_value = input('Введите номер документа для добавления в каталог и перечень полок: ')\n",
    "    user_type = input('Введите тип документа: ')\n",
    "    user_name = input('Введите имя владельца документа: ')\n",
    "    user_shelf = input('Введите номер полки для хранения: ')\n",
    "    for shelf, doc in directories.items():\n",
    "        if user_value == '' or user_type == '' or user_name == '' or user_shelf == '':\n",
    "            return print('Поля не могут быть пустыми') \n",
    "        elif user_shelf == shelf:\n",
    "            doc.append(user_value)\n",
    "            new_dict = {}\n",
    "            new_dict['type'] = user_type\n",
    "            new_dict['number'] = str(user_value)\n",
    "            new_dict['name'] = user_name\n",
    "            documents.append(new_dict)\n",
    "            return (print('\\nДокумент успешно добавлен в каталог и перечень полок'))  \n",
    "    return (print('Полки не существует, добавьте полку с помощью параметра \"as\"'))  \n",
    "\n",
    "# add()"
   ]
  },
  {
   "cell_type": "code",
   "execution_count": null,
   "metadata": {},
   "outputs": [],
   "source": []
  },
  {
   "cell_type": "code",
   "execution_count": 512,
   "metadata": {},
   "outputs": [
    {
     "name": "stdout",
     "output_type": "stream",
     "text": [
      "Введите параметр, по которому необходимо получить результат: \n",
      "\n",
      "Поле должно быть заполнено\n"
     ]
    }
   ],
   "source": [
    "user_request = input('Введите параметр, по которому необходимо получить результат: \\n')\n",
    "if user_request == 'p':\n",
    "    print(people())\n",
    "elif user_request == 's':\n",
    "    print(shelf())\n",
    "elif user_request == 'l':\n",
    "    print(list_())\n",
    "elif user_request == 'as':\n",
    "    print(add_shelf())\n",
    "elif user_request == 'd':\n",
    "    print(delete())\n",
    "elif user_request == 'm':\n",
    "    print(move())\n",
    "elif user_request == 'a':\n",
    "    print(add())\n",
    "else:\n",
    "    print('Поле должно быть заполнено')"
   ]
  },
  {
   "cell_type": "code",
   "execution_count": 524,
   "metadata": {},
   "outputs": [
    {
     "data": {
      "text/plain": [
       "[{'type': 'passport', 'number': '2207 876234', 'name': 'Василий Гупкин'},\n",
       " {'type': 'invoice', 'number': '11-2', 'name': 'Геннадий Покемонов'},\n",
       " {'type': 'insurance', 'number': '10006', 'name': 'Аристарх Павлов'}]"
      ]
     },
     "execution_count": 524,
     "metadata": {},
     "output_type": "execute_result"
    }
   ],
   "source": [
    "documents"
   ]
  },
  {
   "cell_type": "code",
   "execution_count": 525,
   "metadata": {},
   "outputs": [
    {
     "data": {
      "text/plain": [
       "{'1': ['2207 876234', '11-2', '5455 028765'],\n",
       " '2': ['10006', '5400 028765', '5455 002299'],\n",
       " '3': []}"
      ]
     },
     "execution_count": 525,
     "metadata": {},
     "output_type": "execute_result"
    }
   ],
   "source": [
    "directories"
   ]
  },
  {
   "cell_type": "markdown",
   "metadata": {},
   "source": [
    "Необходимо реализовать пользовательские команды (внимание! это не название функций, которые должны быть выразительными, а команды, которые вводит пользователь, чтобы получить необходимый результат):\n",
    "  \n",
    "- p – people – команда, которая спросит номер документа и выведет имя человека, которому он принадлежит;  \n",
    "- s – shelf – команда, которая спросит номер документа и выведет номер полки, на которой он находится  \n",
    "Правильно обработайте ситуацию, когда пользователь будет вводить несуществующий документ.\n",
    "- l – list – команда, которая выведет список всех документов в формате   \n",
    "**passport \"2207 876234\" \"Василий Гупкин\"**  \n",
    "- as – add shelf – команда, которая спросит номер новой полки и добавит ее в перечень\n",
    "- d – delete – команда, которая спросит номер документа и удалит его из каталога и из перечня полок. Предусмотрите сценарий, когда пользователь вводит несуществующий документ;  \n",
    "- m – move – команда, которая спросит номер документа и целевую полку и переместит его с текущей полки на целевую. Корректно обработайте кейсы, когда пользователь пытается переместить несуществующий документ или переместить документ на несуществующую полку;  \n",
    "- a – add – команда, которая добавит новый документ в каталог и в перечень полок, спросив его номер, тип, имя владельца и номер полки, на котором он будет храниться."
   ]
  }
 ],
 "metadata": {
  "kernelspec": {
   "display_name": "Python 3",
   "language": "python",
   "name": "python3"
  },
  "language_info": {
   "codemirror_mode": {
    "name": "ipython",
    "version": 3
   },
   "file_extension": ".py",
   "mimetype": "text/x-python",
   "name": "python",
   "nbconvert_exporter": "python",
   "pygments_lexer": "ipython3",
   "version": "3.7.4"
  }
 },
 "nbformat": 4,
 "nbformat_minor": 2
}
